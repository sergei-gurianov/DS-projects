{
 "cells": [
  {
   "cell_type": "code",
   "execution_count": 1,
   "metadata": {
    "_cell_guid": "b1076dfc-b9ad-4769-8c92-a6c4dae69d19",
    "_uuid": "8f2839f25d086af736a60e9eeb907d3b93b6e0e5"
   },
   "outputs": [],
   "source": [
    "import numpy as np \n",
    "import pandas as pd\n",
    "import itertools\n",
    "from sklearn.linear_model import LogisticRegression\n",
    "from sklearn.preprocessing import StandardScaler\n",
    "from sklearn.neural_network import MLPClassifier\n",
    "from lightgbm import LGBMClassifier\n",
    "\n",
    "CurrYear = 2019"
   ]
  },
  {
   "cell_type": "code",
   "execution_count": 2,
   "metadata": {},
   "outputs": [],
   "source": [
    "def LogLoss(predictions, realizations):\n",
    "    predictions_use = predictions.clip(0)\n",
    "    realizations_use = realizations.clip(0)\n",
    "    LogLoss = -np.mean( (realizations_use * np.log(predictions_use)) + (1 - realizations_use) * np.log(1 - predictions_use) )\n",
    "    return LogLoss"
   ]
  },
  {
   "cell_type": "code",
   "execution_count": 3,
   "metadata": {},
   "outputs": [],
   "source": [
    "KenPomFinal2 = pd.read_csv(\"../input/kp-hs-10-100/KenPomFinal.csv\")\n",
    "teamsAll = pd.read_csv(\"../input/teamsall/TeamsAll.csv\")\n",
    "regseasonDetail = pd.read_csv('../input/mens-machine-learning-competition-2019/Stage2DataFiles/RegularSeasonDetailedResults.csv')"
   ]
  },
  {
   "cell_type": "code",
   "execution_count": 4,
   "metadata": {},
   "outputs": [],
   "source": [
    "KenPomFinal2 = KenPomFinal2[['Team','Year','AdjD','AdjO','Conf','Luck','Pyth','Team_Id']]"
   ]
  },
  {
   "cell_type": "code",
   "execution_count": 5,
   "metadata": {},
   "outputs": [],
   "source": [
    "kp_df=[]\n",
    "years_list = [2019,2018,2017,2016,2015,2014,2013,2012,2011,2010,2009,2008,2007,2006,2005,2004,2003,2002]\n",
    "for year in years_list:\n",
    "    temp_kp_df = pd.read_csv('../input/' + 'ken-pom2019/KP' + str(year) + \"_final.csv\")\n",
    "    temp_kp_df['Season'] = year\n",
    "    year_last = year   \n",
    "    if year==2019:\n",
    "        kp_df = temp_kp_df\n",
    "    else:\n",
    "        kp_df = kp_df.append(temp_kp_df)\n",
    "\n",
    "KenPomFinal = kp_df\n",
    "KenPomFinal.rename(columns={'team':'Team','conf':'Conf','adjem':'Pyth','adjo':'AdjO','adjd':'AdjD','luck':'Luck','Season':'Year'},inplace=True)\n",
    "KenPomFinal = KenPomFinal.merge(KenPomFinal2,left_on=['Year','Team'], right_on=[\"Year\",\"Team\"],how='left')\n",
    "KenPomFinal = KenPomFinal[['Team','Year','AdjD_x','AdjO_x','Conf_x','Luck_x','Pyth_x','Team_Id']]\n",
    "KenPomFinal.rename(columns={'AdjD_x':'AdjD','AdjO_x':'AdjO','Conf_x':'Conf','Luck_x':'Luck','Pyth_x':'Pyth'},inplace=True)"
   ]
  },
  {
   "cell_type": "code",
   "execution_count": 6,
   "metadata": {},
   "outputs": [],
   "source": [
    "regseasonWin = regseasonDetail.copy()\n",
    "regseasonWin['Win']=1\n",
    "\n",
    "regseasonWin.columns = [\n",
    "    \"Year\",\"daynum\",\"Team\",\"Score\",\"OppTeam\",\"OppScore\",\"Location\",\"numOT\",\"fgm\",\"fga\",\"fgm3\",\"fga3\",\"ftm\",\"fta\",\"or\",\"dr\",\"ast\",\"to\",\"stl\",\n",
    "    \"blk\",\"pf\",\"Oppfgm\",\"Oppfga\",\"Oppfgm3\",\"Oppfga3\",\"Oppftm\",\"Oppfta\",\"Oppor\",\"Oppdr\",\"Oppast\",\"Oppto\",\"Oppstl\",\"Oppblk\",\"Opppf\", \"Win\"]\n",
    "\n",
    "regseasonLoss = regseasonDetail.copy()\n",
    "regseasonLoss['Win']=0\n",
    "\n",
    "regseasonLoss.columns = [\"Year\",\"daynum\",\"OppTeam\",\"OppScore\",\"Team\",\"Score\",\"Location\",\"numOT\",\"Oppfgm\",\"Oppfga\",\"Oppfgm3\",\"Oppfga3\",\"Oppftm\",\"Oppfta\",\n",
    "\"Oppor\",\"Oppdr\",\"Oppast\",\"Oppto\",\"Oppstl\",\"Oppblk\",\"Opppf\",\"fgm\",\"fga\",\"fgm3\",\"fga3\",\"ftm\",\"fta\",\"or\",\"dr\",\"ast\",\"to\",\"stl\",\"blk\",\"pf\",\"Win\"]"
   ]
  },
  {
   "cell_type": "code",
   "execution_count": 7,
   "metadata": {},
   "outputs": [],
   "source": [
    "regseasonLoss.loc[regseasonLoss.Location == 'H', 'Location'] = 'B'\n",
    "regseasonLoss.loc[regseasonLoss.Location == 'A', 'Location'] = 'H'\n",
    "regseasonLoss.loc[regseasonLoss.Location == 'B', 'Location'] = 'A'\n",
    "\n",
    "RegSeasonTotal = pd.concat([regseasonWin,regseasonLoss],sort=False)"
   ]
  },
  {
   "cell_type": "code",
   "execution_count": 8,
   "metadata": {},
   "outputs": [],
   "source": [
    "RegSeasonTotal['FGPerct'] = RegSeasonTotal.fgm/RegSeasonTotal.fga\n",
    "RegSeasonTotal['FG3Perct'] = RegSeasonTotal.fgm3/RegSeasonTotal.fga3\n",
    "RegSeasonTotal['FTPerct'] = (RegSeasonTotal.ftm/RegSeasonTotal.fta).fillna(0)\n",
    "RegSeasonTotal['O_Eff'] = 100*RegSeasonTotal.Score /(0.5*((RegSeasonTotal.fga+0.4*RegSeasonTotal.fta-1.07*\\\n",
    "                        (RegSeasonTotal['or']/(RegSeasonTotal['or']+RegSeasonTotal.Oppdr))*(RegSeasonTotal.fga-RegSeasonTotal.fgm)+\\\n",
    "                        RegSeasonTotal.to)+(RegSeasonTotal.Oppfga+0.4*RegSeasonTotal.Oppfta-1.07*(RegSeasonTotal.Oppor/\\\n",
    "                        (RegSeasonTotal.Oppor+RegSeasonTotal.dr))*(RegSeasonTotal.Oppfga-RegSeasonTotal.Oppfgm)+RegSeasonTotal.Oppto)))\n",
    "RegSeasonTotal['D_Eff'] = 100*RegSeasonTotal.OppScore/(RegSeasonTotal.Oppfga-RegSeasonTotal.Oppor+RegSeasonTotal.Oppto+0.4*RegSeasonTotal.Oppfta)"
   ]
  },
  {
   "cell_type": "code",
   "execution_count": 9,
   "metadata": {},
   "outputs": [],
   "source": [
    "var_gb = RegSeasonTotal.groupby(['Team','Year'])[['FGPerct','FG3Perct','FTPerct','to']].var()\n",
    "mean_gb = RegSeasonTotal.groupby(['Team','Year'])[['fgm3','fga3','fgm','fga','ftm','fta','or','dr','ast','to','stl','blk',\n",
    "                                                                                               'pf','O_Eff','D_Eff']].mean()\n",
    "var_gb.columns = ['FGPerctVar','FG3PerctVar','FTPerctVar','toVar']\n",
    "mean_gb.columns = ['fgm3agg','fga3agg','fgmagg','fgaagg','ftmagg','ftaagg','oragg','dragg','astagg','toagg','stlagg',\n",
    "                                                                                           'blkagg','pfagg','OffRtg','DffRtg']\n",
    "sumRegSeason = pd.concat([mean_gb,var_gb],axis=1).reset_index()\n",
    "\n",
    "sumRegSeason['ast2to'] = sumRegSeason.astagg/sumRegSeason.toagg"
   ]
  },
  {
   "cell_type": "code",
   "execution_count": 10,
   "metadata": {},
   "outputs": [],
   "source": [
    "last30regseas  = RegSeasonTotal.loc[RegSeasonTotal.daynum > 100]\n",
    "\n",
    "var_gb30 = last30regseas.groupby(['Team','Year'])[['FGPerct','FG3Perct','FTPerct','to']].var()\n",
    "mean_gb30 = last30regseas.groupby(['Team','Year'])[['fgm3','fga3','fgm','fga','ftm','fta','or','dr','ast','to','stl','blk',\n",
    "                                                                                                'pf','O_Eff','D_Eff']].mean()\n",
    "var_gb30.columns = ['FGPerctVarl30','FG3PerctVarl30','FTPerctVarl30','toVarl30']\n",
    "mean_gb30.columns = ['fgm3aggl30','fga3aggl30','fgmaggl30','fgaaggl30','ftmaggl30','ftaaggl30','oraggl30','draggl30','astaggl30',\n",
    "                                                             'toaggl30','stlaggl30','blkaggl30','pfaggl30','OffRtgl30','DffRtgl30']\n",
    "last30regseas = pd.concat([mean_gb30,var_gb30],axis=1).reset_index()\n",
    "last30regseas['ast2tol30'] = last30regseas.astaggl30/last30regseas.toaggl30"
   ]
  },
  {
   "cell_type": "code",
   "execution_count": 11,
   "metadata": {},
   "outputs": [],
   "source": [
    "MasseyOrdinals = pd.read_csv(\"../input/masseyordinals-thru-2019-day-128/MasseyOrdinals_thru_2019_day_128.csv\")\n",
    "\n",
    "MasseyOrdinalTable = pd.melt(MasseyOrdinals, id_vars=['Season','RankingDayNum','SystemName','TeamID'], value_vars=['OrdinalRank'],\n",
    "                             var_name='variable',value_name='value')\n",
    "MasseyOrdinalTable = (MasseyOrdinalTable.pivot_table(index=['Season', 'SystemName','TeamID'], columns=['RankingDayNum'],values='value').\\\n",
    "                                                                                                                            reset_index())\n",
    "MasseyOrdinalTable.columns= ['Season','SystemName','TeamID']+[str(i)+'_OrdinalRank'for i in list(MasseyOrdinalTable.iloc[:,3:].columns)]\n",
    "\n",
    "MasseyOrdinalTable['MinRank'] = MasseyOrdinalTable.iloc[:,3:93].min(axis=1)\n",
    "MasseyOrdinalTable['MaxRank'] = MasseyOrdinalTable.iloc[:,3:93].max(axis=1)\n",
    "MasseyOrdinalTable['VarRank'] = MasseyOrdinalTable.iloc[:,3:93].var(axis=1)\n",
    "MasseyOrdinalTable.rename(columns={'133_OrdinalRank': \"FinalRanking\" }, inplace = True)\n",
    "\n",
    "MasseyOrdinalTable['FinalRanking'] = MasseyOrdinalTable['FinalRanking'].fillna(MasseyOrdinalTable['128_OrdinalRank'])\n",
    "MasseyOrdinalTable = MasseyOrdinalTable[['Season', 'SystemName', 'TeamID','FinalRanking', 'MinRank','MaxRank', 'VarRank']]\n",
    "MasseyOrdinalTable = pd.melt(MasseyOrdinalTable, id_vars=[\"Season\",\"SystemName\",\"TeamID\"], value_vars=[\"FinalRanking\",\"MinRank\",\"MaxRank\",\"VarRank\"])\n",
    "\n",
    "MasseyOrdinalTable = (MasseyOrdinalTable.pivot_table(index=['Season', 'TeamID'], columns=['SystemName','variable'],values='value').reset_index())\n",
    "MasseyOrdinalTable.columns = MasseyOrdinalTable.columns.map('_'.join)\n",
    "MasseyOrdinalTable.rename(columns={'Season_':'Season','TeamID_':'TeamID'},inplace=True)\n",
    "\n",
    "FinalRankings = MasseyOrdinalTable[['Season', 'TeamID', 'MAS_FinalRanking','MAS_MinRank','MAS_MaxRank','MAS_VarRank','COL_FinalRanking','COL_MinRank',\n",
    "                    'COL_MaxRank','COL_VarRank','RPI_FinalRanking','RPI_MinRank','RPI_MaxRank','RPI_VarRank']]"
   ]
  },
  {
   "cell_type": "code",
   "execution_count": 12,
   "metadata": {},
   "outputs": [],
   "source": [
    "TourneyCompact = pd.read_csv('../input/mens-machine-learning-competition-2019/Stage2DataFiles/NCAATourneyCompactResults.csv')\n",
    "TourneySeeds = pd.read_csv('../input/mens-machine-learning-competition-2019/Stage2DataFiles/NCAATourneySeeds.csv')\n",
    "\n",
    "TourneyWin  = TourneyCompact.copy()\n",
    "TourneyWin['Win'] = 1\n",
    "TourneyWin.columns = [\"Year\",\"Daynum\",\"Team\",\"Score\",\"OppTeam\",\"OppScore\",\"Location\",\"Numot\",\"Win\"]\n",
    "\n",
    "TourneyLose = TourneyCompact.copy()\n",
    "TourneyLose['Win'] = 0\n",
    "TourneyLose.columns = [\"Year\",\"Daynum\",\"OppTeam\",\"OppScore\",\"Team\",\"Score\",\"Location\",\"Numot\",\"Win\"]\n",
    "\n",
    "TourneyTotal = pd.concat([TourneyWin,TourneyLose],sort=False)\n",
    "TourneySeeds['SeedNum'] = TourneySeeds.Seed.str.extract('(\\d+)').astype('int32')"
   ]
  },
  {
   "cell_type": "code",
   "execution_count": 13,
   "metadata": {},
   "outputs": [],
   "source": [
    "TourneyTotal = TourneyTotal.merge(TourneySeeds.rename(columns={'Season': 'Year','TeamID': 'Team'}),\n",
    "   left_on=['Year','Team'], right_on=[\"Year\",\"Team\"])\n",
    "TourneyTotal = TourneyTotal.merge(TourneySeeds.rename(columns={'Season': 'Year','TeamID': 'OppTeam'}),\n",
    "                                  left_on=['Year','OppTeam'], right_on=[\"Year\",\"OppTeam\"],suffixes=[\".x\", \".y\"])\n",
    "\n",
    "TourneyTotal['SeedDiff'] = TourneyTotal['SeedNum.x']-TourneyTotal['SeedNum.y']\n",
    "Tourney03to11 = TourneyTotal.loc[TourneyTotal.Year>2002]\n",
    "\n",
    "#add Ken Pom\n",
    "KenPomFinal_1 = KenPomFinal.iloc[:,1:23]\n",
    "Tourney03to11 = Tourney03to11.merge(KenPomFinal_1.rename(columns={'Team_Id': 'Team'}),\n",
    "                                  left_on=['Year','Team'], right_on=[\"Year\",\"Team\"],how='left')\n",
    "Tourney03to11 = Tourney03to11.merge(KenPomFinal_1.rename(columns={'Team_Id': 'OppTeam'}),\n",
    "                                   left_on=['Year','OppTeam'], right_on=[\"Year\",\"OppTeam\"],suffixes=[\".x\", \".y\"],how='left')\n",
    "\n",
    "#add sumRegSeason\n",
    "Tourney03to11 = Tourney03to11.merge(sumRegSeason,left_on=['Year','Team'], right_on=[\"Year\",\"Team\"],how='left')\n",
    "Tourney03to11 = Tourney03to11.merge(sumRegSeason.rename(columns={'Team': 'OppTeam'}),left_on=['Year','OppTeam'],\n",
    "                                    right_on=[\"Year\",\"OppTeam\"],suffixes=[\".x\", \".y\"],how='left')\n",
    "\n",
    "#add last30regseas\n",
    "Tourney03to11 = Tourney03to11.merge(last30regseas,left_on=['Year','Team'], right_on=[\"Year\",\"Team\"],how='left')\n",
    "Tourney03to11 = Tourney03to11.merge(last30regseas.rename(columns={'Team': 'OppTeam'}),left_on=['Year','OppTeam'],\n",
    "                                    right_on=[\"Year\",\"OppTeam\"],suffixes=[\".x\", \".y\"],how='left')\n",
    "\n",
    "#add FinalRankings\n",
    "Tourney03to11 = Tourney03to11.merge(FinalRankings.rename(columns={'Season': 'Year','TeamID': 'Team'}),\n",
    "                                    left_on=['Year','Team'], right_on=[\"Year\",\"Team\"],how='left')\n",
    "Tourney03to11 = Tourney03to11.merge(FinalRankings.rename(columns={'Season': 'Year','TeamID': 'OppTeam'}),\n",
    "                                    left_on=['Year','OppTeam'],right_on=[\"Year\",\"OppTeam\"],suffixes=[\".x\", \".y\"],how='left')"
   ]
  },
  {
   "cell_type": "code",
   "execution_count": 14,
   "metadata": {},
   "outputs": [],
   "source": [
    "Tourney03to11['AdjDDiff'] = Tourney03to11['AdjD.x']-Tourney03to11['AdjD.y']\n",
    "Tourney03to11['AdjDDiff'] = Tourney03to11['AdjD.x']-Tourney03to11['AdjD.y']\n",
    "Tourney03to11['AdjODiff'] = Tourney03to11['AdjO.x']-Tourney03to11['AdjO.y']"
   ]
  },
  {
   "cell_type": "code",
   "execution_count": 15,
   "metadata": {},
   "outputs": [],
   "source": [
    "Tourney03to11 = Tourney03to11.loc[:,~Tourney03to11.columns.duplicated()]"
   ]
  },
  {
   "cell_type": "code",
   "execution_count": 16,
   "metadata": {},
   "outputs": [],
   "source": [
    "Tourney03to11['ast2tol30Diff'] = Tourney03to11['ast2tol30.x'] - Tourney03to11['ast2tol30.y']\n",
    "Tourney03to11['astaggDiff'] = Tourney03to11['astagg.x'] - Tourney03to11['astagg.y']\n",
    "Tourney03to11['astaggl30Diff'] = Tourney03to11['astaggl30.x'] - Tourney03to11['astaggl30.y']\n",
    "Tourney03to11['blkaggDiff'] = Tourney03to11['blkagg.x'] - Tourney03to11['blkagg.y']\n",
    "Tourney03to11['blkaggl30Diff'] = Tourney03to11['blkaggl30.x'] - Tourney03to11['blkaggl30.y']\n",
    "Tourney03to11['draggDiff'] = Tourney03to11['dragg.x'] - Tourney03to11['dragg.y']\n",
    "Tourney03to11['draggl30Diff'] = Tourney03to11['draggl30.x'] - Tourney03to11['draggl30.y']\n",
    "Tourney03to11['FG3PerctVarDiff'] = Tourney03to11['FG3PerctVar.x'] - Tourney03to11['FG3PerctVar.y']\n",
    "Tourney03to11['FG3PerctVarl30Diff'] = Tourney03to11['FG3PerctVarl30.x'] - Tourney03to11['FG3PerctVarl30.y']\n",
    "Tourney03to11['fga3aggDiff'] = Tourney03to11['fga3agg.x'] - Tourney03to11['fga3agg.y']\n",
    "Tourney03to11['fga3aggl30Diff'] = Tourney03to11['fga3aggl30.x'] - Tourney03to11['fga3aggl30.y']\n",
    "Tourney03to11['fgaaggDiff'] = Tourney03to11['fgaagg.x'] - Tourney03to11['fgaagg.y']\n",
    "Tourney03to11['fgaaggl30Diff'] = Tourney03to11['fgaaggl30.x'] - Tourney03to11['fgaaggl30.y']\n",
    "Tourney03to11['fgm3aggDiff'] = Tourney03to11['fgm3agg.x'] - Tourney03to11['fgm3agg.y']\n",
    "Tourney03to11['fgm3aggl30Diff'] = Tourney03to11['fgm3aggl30.x'] - Tourney03to11['fgm3aggl30.y']\n",
    "Tourney03to11['fgmaggDiff'] = Tourney03to11['fgmagg.x'] - Tourney03to11['fgmagg.y']\n",
    "Tourney03to11['fgmaggl30Diff'] = Tourney03to11['fgmaggl30.x'] - Tourney03to11['fgmaggl30.y']\n",
    "Tourney03to11['FGPerctVarDiff'] = Tourney03to11['FGPerctVar.x'] - Tourney03to11['FGPerctVar.y']\n",
    "Tourney03to11['FGPerctVarl30Diff'] = Tourney03to11['FGPerctVarl30.x'] - Tourney03to11['FGPerctVarl30.y']\n",
    "Tourney03to11['ftaaggDiff'] = Tourney03to11['ftaagg.x'] - Tourney03to11['ftaagg.y']\n",
    "Tourney03to11['ftaaggl30Diff'] = Tourney03to11['ftaaggl30.x'] - Tourney03to11['ftaaggl30.y']\n",
    "Tourney03to11['ftmaggDiff'] = Tourney03to11['ftmagg.x'] - Tourney03to11['ftmagg.y']\n",
    "Tourney03to11['ftmaggl30Diff'] = Tourney03to11['ftmaggl30.x'] - Tourney03to11['ftmaggl30.y']\n",
    "Tourney03to11['FTPerctVarDiff'] = Tourney03to11['FTPerctVar.x'] - Tourney03to11['FTPerctVar.y']\n",
    "Tourney03to11['FTPerctVarl30Diff'] = Tourney03to11['FTPerctVarl30.x'] - Tourney03to11['FTPerctVarl30.y']\n",
    "Tourney03to11['LuckDiff'] = Tourney03to11['Luck.x']-Tourney03to11['Luck.y']\n",
    "Tourney03to11['oraggDiff'] = Tourney03to11['oragg.x'] - Tourney03to11['oragg.y']\n",
    "Tourney03to11['oraggl30Diff'] = Tourney03to11['oraggl30.x'] - Tourney03to11['oraggl30.y']\n",
    "Tourney03to11['pfaggDiff'] = Tourney03to11['pfagg.x'] - Tourney03to11['pfagg.y']\n",
    "Tourney03to11['pfaggl30Diff'] = Tourney03to11['pfaggl30.x'] - Tourney03to11['pfaggl30.y']\n",
    "Tourney03to11['PythDiff'] = Tourney03to11['Pyth.x']-Tourney03to11['Pyth.y']\n",
    "Tourney03to11['SeedNumDiff'] = Tourney03to11['SeedNum.x'] - Tourney03to11['SeedNum.y']\n",
    "Tourney03to11['stlaggDiff'] = Tourney03to11['stlagg.x'] - Tourney03to11['stlagg.y']\n",
    "Tourney03to11['stlaggl30Diff'] = Tourney03to11['stlaggl30.x'] - Tourney03to11['stlaggl30.y']\n",
    "Tourney03to11['toaggDiff'] = Tourney03to11['toagg.x'] - Tourney03to11['toagg.y']\n",
    "Tourney03to11['toaggl30Diff'] = Tourney03to11['toaggl30.x'] - Tourney03to11['toaggl30.y']\n",
    "Tourney03to11['toVarl30Diff'] = Tourney03to11['toVarl30.x'] - Tourney03to11['toVarl30.y']\n",
    "Tourney03to11['PerctOfrom3pt.x'] = (3*Tourney03to11['fgm3agg.x'])/(Tourney03to11['fgm3agg.x']*3+Tourney03to11['fgmagg.x']*2+Tourney03to11['ftmagg.x'])\n",
    "Tourney03to11['PerctOfrom3pt.y'] = (3*Tourney03to11['fgm3agg.y'])/(Tourney03to11['fgm3agg.y']*3+Tourney03to11['fgmagg.y']*2+Tourney03to11['ftmagg.y'])\n",
    "Tourney03to11['PerctOfrom3ptDiff'] = Tourney03to11['PerctOfrom3pt.x']-Tourney03to11['PerctOfrom3pt.y']\n",
    "Tourney03to11['PerctOfromFT.x'] = Tourney03to11['ftmagg.x']/(Tourney03to11['fgm3agg.x']*3+Tourney03to11['fgmagg.x']*2+Tourney03to11['ftmagg.x'])\n",
    "Tourney03to11['PerctOfromFT.y'] = Tourney03to11['ftmagg.y']/(Tourney03to11['fgm3agg.y']*3+Tourney03to11['fgmagg.y']*2+Tourney03to11['ftmagg.y'])\n",
    "Tourney03to11['PerctOfromFTDiff'] = Tourney03to11['PerctOfrom3pt.x']-Tourney03to11['PerctOfrom3pt.y']\n",
    "Tourney03to11['AggresPrct.x'] = (Tourney03to11['ftmagg.x']/Tourney03to11['fgmagg.x'])/(Tourney03to11['fgm3agg.x']/Tourney03to11['fgmagg.x'])\n",
    "Tourney03to11['AggresPrct.y'] = (Tourney03to11['ftmagg.y']/Tourney03to11['fgmagg.y'])/(Tourney03to11['fgm3agg.y']/Tourney03to11['fgmagg.y'])\n",
    "Tourney03to11['AggresPrctDiff'] = Tourney03to11['AggresPrct.x']-Tourney03to11['AggresPrct.y']\n",
    "Tourney03to11['After1stWkd'] = np.where(Tourney03to11['Daynum']>140, 1, 0)\n",
    "Tourney03to11['RemoveDups'] = np.where(Tourney03to11['Team']>Tourney03to11.OppTeam, 0, 1)\n",
    "Tourney03to11['Eff_L30_Diff'] =  (Tourney03to11['OffRtgl30.x']-Tourney03to11['DffRtgl30.x'])-(Tourney03to11['OffRtgl30.y']-Tourney03to11['DffRtgl30.y'])\n",
    "Tourney03to11['OffMomentum.x'] =  Tourney03to11['OffRtgl30.x']/Tourney03to11['OffRtg.x']\n",
    "Tourney03to11['DefMomentum.x'] =  Tourney03to11['DffRtgl30.x']/Tourney03to11['DffRtg.x']\n",
    "Tourney03to11['OffMomentum.y'] =  Tourney03to11['OffRtgl30.y']/Tourney03to11['OffRtg.y']\n",
    "Tourney03to11['DefMomentum.y'] =  Tourney03to11['DffRtgl30.y']/Tourney03to11['DffRtg.y']\n",
    "Tourney03to11['OffMomentumDiff'] =  Tourney03to11['OffMomentum.x']-Tourney03to11['OffMomentum.y']\n",
    "Tourney03to11['DefMomentumDiff'] =  Tourney03to11['DefMomentum.x']-Tourney03to11['DefMomentum.y']\n",
    "Tourney03to11['MAS_Final_Diff'] =  Tourney03to11['MAS_FinalRanking.x']-Tourney03to11['MAS_FinalRanking.y']\n",
    "Tourney03to11['MAS_Min_Diff'] =  Tourney03to11['MAS_MinRank.x']-Tourney03to11['MAS_MinRank.y']\n",
    "Tourney03to11['MAS_Max_Diff'] =  Tourney03to11['MAS_MaxRank.x']-Tourney03to11['MAS_MaxRank.y']\n",
    "Tourney03to11['MAS_Var_Diff'] =  Tourney03to11['MAS_VarRank.x']-Tourney03to11['MAS_VarRank.y']\n",
    "Tourney03to11['COL_Final_Diff'] =  Tourney03to11['COL_FinalRanking.x']-Tourney03to11['COL_FinalRanking.y']\n",
    "Tourney03to11['COL_Min_Diff'] =  Tourney03to11['COL_MinRank.x']-Tourney03to11['COL_MinRank.y']\n",
    "Tourney03to11['COL_Max_Diff'] =  Tourney03to11['COL_MaxRank.x']-Tourney03to11['COL_MaxRank.y']\n",
    "Tourney03to11['COL_Var_Diff'] =  Tourney03to11['COL_VarRank.x']-Tourney03to11['COL_VarRank.y']\n",
    "Tourney03to11['RPI_Final_Diff'] =  Tourney03to11['RPI_FinalRanking.x']-Tourney03to11['RPI_FinalRanking.y']\n",
    "Tourney03to11['RPI_Min_Diff'] =  Tourney03to11['RPI_MinRank.x']-Tourney03to11['RPI_MinRank.y']\n",
    "Tourney03to11['RPI_Max_Diff'] =  Tourney03to11['RPI_MaxRank.x']-Tourney03to11['RPI_MaxRank.y']\n",
    "Tourney03to11['RPI_Var_Diff'] =  Tourney03to11['RPI_VarRank.x']-Tourney03to11['RPI_VarRank.y']\n",
    "\n",
    "Tourney03to11 = Tourney03to11.fillna(0)\n",
    "TourneyDataTotal = Tourney03to11.loc[Tourney03to11.RemoveDups==1]"
   ]
  },
  {
   "cell_type": "code",
   "execution_count": 17,
   "metadata": {},
   "outputs": [],
   "source": [
    "TeamNames = teamsAll[[\"Team_Id\",\"Team_Name\"]]\n",
    "TeamNames = TeamNames.drop_duplicates()\n",
    "TourneyDataTotal = TourneyDataTotal.merge(TeamNames,left_on=['Team'], right_on=[\"Team_Id\"],how='left')\n",
    "TeamNames.rename(columns={'Team_Name':'Opp_Team_Name'},inplace=True)\n",
    "TourneyDataTotal = TourneyDataTotal.merge(TeamNames,left_on=['OppTeam'], right_on=[\"Team_Id\"],how='left')\n",
    "TeamNames.rename(columns={'Opp_Team_Name':'Team_Name'},inplace=True)"
   ]
  },
  {
   "cell_type": "code",
   "execution_count": 18,
   "metadata": {},
   "outputs": [],
   "source": [
    "ind_var_selected = ['SeedDiff','LuckDiff','PythDiff','MAS_Final_Diff','MAS_Max_Diff','COL_Final_Diff']"
   ]
  },
  {
   "cell_type": "code",
   "execution_count": 19,
   "metadata": {},
   "outputs": [
    {
     "name": "stdout",
     "output_type": "stream",
     "text": [
      "valid df season 2015 = 0.3718595382562789\n",
      "valid season 2015 = 0.3718595382562789\n",
      "valid df season 2015 = 0.37185953825627893\n",
      "valid season 2015 = 0.37185953825627904\n",
      "valid df season 2015 = 0.37185953825628076\n",
      "valid season 2015 = 0.37185953825628454\n",
      "valid df season 2015 = 0.3718595382562803\n",
      "valid season 2015 = 0.3718595382562789\n",
      "valid df season 2015 = 0.3718595382562824\n",
      "valid season 2015 = 0.3718595382562905\n",
      "Final df valid season 2015 = 0.3718595382562824\n",
      "valid df season 2016 = 0.4013356863443721\n",
      "valid season 2016 = 0.4013356863443721\n",
      "valid df season 2016 = 0.40133568634437217\n",
      "valid season 2016 = 0.40133568634437217\n",
      "valid df season 2016 = 0.40133568634437217\n",
      "valid season 2016 = 0.4013356863443722\n",
      "valid df season 2016 = 0.4013356863443721\n",
      "valid season 2016 = 0.4013356863443721\n",
      "valid df season 2016 = 0.4013356863443721\n",
      "valid season 2016 = 0.40133568634437217\n",
      "Final df valid season 2016 = 0.4013356863443721\n",
      "valid df season 2017 = 0.3603270394898758\n",
      "valid season 2017 = 0.3603270394898758\n",
      "valid df season 2017 = 0.3603270394898758\n",
      "valid season 2017 = 0.36032703948987577\n",
      "valid df season 2017 = 0.3603270394898758\n",
      "valid season 2017 = 0.3603270394898758\n",
      "valid df season 2017 = 0.3603270394898758\n",
      "valid season 2017 = 0.3603270394898758\n",
      "valid df season 2017 = 0.3603270394898758\n",
      "valid season 2017 = 0.3603270394898758\n",
      "Final df valid season 2017 = 0.3603270394898758\n",
      "valid df season 2018 = 0.46145829986615533\n",
      "valid season 2018 = 0.46145829986615533\n",
      "valid df season 2018 = 0.4614582998661553\n",
      "valid season 2018 = 0.4614582998661551\n",
      "valid df season 2018 = 0.46145829986615516\n",
      "valid season 2018 = 0.4614582998661552\n",
      "valid df season 2018 = 0.4614582998661553\n",
      "valid season 2018 = 0.46145829986615533\n",
      "valid df season 2018 = 0.4614582998661552\n",
      "valid season 2018 = 0.4614582998661551\n",
      "Final df valid season 2018 = 0.4614582998661552\n",
      "Final df log loss = 0.39874514098917135\n"
     ]
    }
   ],
   "source": [
    "# Classification\n",
    "valid_seasons = [2015,2016,2017,2018]\n",
    "error = []\n",
    "for vseason in valid_seasons:\n",
    "    temp_df = TourneyDataTotal[TourneyDataTotal['Year'] == vseason]\n",
    "    X_valid = temp_df[ind_var_selected].reset_index(drop=True)\n",
    "    y_valid = temp_df['Win'].reset_index(drop=True)\n",
    "    \n",
    "\n",
    "    temp_df1 = TourneyDataTotal[TourneyDataTotal['Year'] < vseason]\n",
    "    combined_temp_df = temp_df1.sample(frac=1, random_state=3)\n",
    "    \n",
    "    X_train = combined_temp_df[ind_var_selected].reset_index(drop=True)\n",
    "    y_train = combined_temp_df['Win'].reset_index(drop=True)\n",
    "    \n",
    "    scaler = StandardScaler()\n",
    "    scaler.fit(X_train)\n",
    "    scaled_X_train = pd.DataFrame(scaler.transform(X_train), index=X_train.index, columns=X_train.columns)\n",
    "    scaled_X_valid = pd.DataFrame(scaler.transform(X_valid), index=X_valid.index, columns=X_valid.columns)\n",
    "    \n",
    "    roll_score=[]\n",
    "    df_step = pd.DataFrame()\n",
    "    for step in range(5):\n",
    "        #roll columns\n",
    "        new_top_cols = np.array(ind_var_selected)\n",
    "        ind_var_selected = list(np.roll(new_top_cols,step))\n",
    "        \n",
    "        nn = LogisticRegression(max_iter=250)\n",
    "        nn.fit(scaled_X_train[ind_var_selected],y_train)\n",
    "        nn_pred_no_line = pd.DataFrame(nn.predict_proba(scaled_X_valid[ind_var_selected]))[1]\n",
    "        df_step[step]=nn_pred_no_line\n",
    "        print('valid df season',vseason,'=',LogLoss(df_step.mean(axis=1), y_valid))\n",
    "        print('valid season',vseason,'=',LogLoss(nn_pred_no_line, y_valid))\n",
    "        roll_score.append(LogLoss(nn_pred_no_line, y_valid))\n",
    "    print('Final df valid season',vseason,'=',LogLoss(df_step.mean(axis=1), y_valid))\n",
    "    error.append(LogLoss(df_step.mean(axis=1), y_valid))\n",
    "print('Final df log loss =',sum(error)/len(error))"
   ]
  },
  {
   "cell_type": "code",
   "execution_count": 20,
   "metadata": {},
   "outputs": [
    {
     "name": "stderr",
     "output_type": "stream",
     "text": [
      "/opt/conda/lib/python3.6/site-packages/ipykernel_launcher.py:7: SettingWithCopyWarning: \n",
      "A value is trying to be set on a copy of a slice from a DataFrame.\n",
      "Try using .loc[row_indexer,col_indexer] = value instead\n",
      "\n",
      "See the caveats in the documentation: http://pandas.pydata.org/pandas-docs/stable/user_guide/indexing.html#returning-a-view-versus-a-copy\n",
      "  import sys\n",
      "/opt/conda/lib/python3.6/site-packages/ipykernel_launcher.py:8: SettingWithCopyWarning: \n",
      "A value is trying to be set on a copy of a slice from a DataFrame.\n",
      "Try using .loc[row_indexer,col_indexer] = value instead\n",
      "\n",
      "See the caveats in the documentation: http://pandas.pydata.org/pandas-docs/stable/user_guide/indexing.html#returning-a-view-versus-a-copy\n",
      "  \n"
     ]
    }
   ],
   "source": [
    "SubmissionDataSet = TourneySeeds.loc[TourneySeeds.Season == CurrYear]\n",
    "cat = {'Team': list(SubmissionDataSet.TeamID.values),'OppTeam': list(SubmissionDataSet.TeamID.values)}\n",
    "\n",
    "order = cat.keys()\n",
    "Webexpand_NCAA_Tournament = pd.DataFrame(itertools.product(*[cat[k] for k in order]), columns=order)\n",
    "SubmissionDataSet = Webexpand_NCAA_Tournament.loc[Webexpand_NCAA_Tournament.Team < Webexpand_NCAA_Tournament.OppTeam]\n",
    "SubmissionDataSet['Year'] = CurrYear\n",
    "SubmissionDataSet['Id'] = SubmissionDataSet.Year.astype(str)+\"_\"+SubmissionDataSet.Team.astype(str)+\"_\"+SubmissionDataSet.OppTeam.astype(str)"
   ]
  },
  {
   "cell_type": "code",
   "execution_count": 21,
   "metadata": {},
   "outputs": [],
   "source": [
    "SubmissionDataSet = SubmissionDataSet.merge(TourneySeeds.rename(columns={'Season': 'Year','TeamID': 'Team'}),\n",
    "   left_on=['Year','Team'], right_on=[\"Year\",\"Team\"])\n",
    "SubmissionDataSet = SubmissionDataSet.merge(TourneySeeds.rename(columns={'Season': 'Year','TeamID': 'OppTeam'}),\n",
    "                                  left_on=['Year','OppTeam'], right_on=[\"Year\",\"OppTeam\"],suffixes=[\".x\", \".y\"])\n",
    "\n",
    "#add Ken Pom\n",
    "SubmissionDataSet = SubmissionDataSet.merge(KenPomFinal_1.rename(columns={'Team_Id': 'Team'}),\n",
    "                                  left_on=['Year','Team'], right_on=[\"Year\",\"Team\"],how='left')\n",
    "SubmissionDataSet = SubmissionDataSet.merge(KenPomFinal_1.rename(columns={'Team_Id': 'OppTeam'}),\n",
    "                                   left_on=['Year','OppTeam'], right_on=[\"Year\",\"OppTeam\"],suffixes=[\".x\", \".y\"],how='left')\n",
    "\n",
    "#add sumRegSeason\n",
    "SubmissionDataSet = SubmissionDataSet.merge(sumRegSeason,left_on=['Year','Team'], right_on=[\"Year\",\"Team\"],how='left')\n",
    "SubmissionDataSet = SubmissionDataSet.merge(sumRegSeason.rename(columns={'Team': 'OppTeam'}),left_on=['Year','OppTeam'],\n",
    "                                    right_on=[\"Year\",\"OppTeam\"],suffixes=[\".x\", \".y\"],how='left')\n",
    "\n",
    "#add last30regseas\n",
    "SubmissionDataSet = SubmissionDataSet.merge(last30regseas,left_on=['Year','Team'], right_on=[\"Year\",\"Team\"],how='left')\n",
    "SubmissionDataSet = SubmissionDataSet.merge(last30regseas.rename(columns={'Team': 'OppTeam'}),left_on=['Year','OppTeam'],\n",
    "                                    right_on=[\"Year\",\"OppTeam\"],suffixes=[\".x\", \".y\"],how='left')\n",
    "\n",
    "# #add FinalRankings\n",
    "SubmissionDataSet = SubmissionDataSet.merge(FinalRankings.rename(columns={'Season': 'Year','TeamID': 'Team'}),\n",
    "                                    left_on=['Year','Team'], right_on=[\"Year\",\"Team\"],how='left')\n",
    "SubmissionDataSet = SubmissionDataSet.merge(FinalRankings.rename(columns={'Season': 'Year','TeamID': 'OppTeam'}),\n",
    "                                    left_on=['Year','OppTeam'],right_on=[\"Year\",\"OppTeam\"],suffixes=[\".x\", \".y\"],how='left')"
   ]
  },
  {
   "cell_type": "code",
   "execution_count": 22,
   "metadata": {},
   "outputs": [],
   "source": [
    "SubmissionDataSet['SeedDiff'] = SubmissionDataSet['SeedNum.x']-SubmissionDataSet['SeedNum.y']\n",
    "SubmissionDataSet['AdjDDiff'] = SubmissionDataSet['AdjD.x']-SubmissionDataSet['AdjD.y']\n",
    "SubmissionDataSet['AdjODiff'] = SubmissionDataSet['AdjO.x']-SubmissionDataSet['AdjO.y']\n",
    "SubmissionDataSet['ast2tol30Diff']  = SubmissionDataSet['ast2tol30.x']-SubmissionDataSet['ast2tol30.y']\n",
    "SubmissionDataSet['astaggDiff']  = SubmissionDataSet['astagg.x']-SubmissionDataSet['astagg.y']\n",
    "SubmissionDataSet['astaggl30Diff']  = SubmissionDataSet['astaggl30.x']-SubmissionDataSet['astaggl30.y']\n",
    "SubmissionDataSet['blkaggDiff']  = SubmissionDataSet['blkagg.x']-SubmissionDataSet['blkagg.y']\n",
    "SubmissionDataSet['blkaggl30Diff']  = SubmissionDataSet['blkaggl30.x']-SubmissionDataSet['blkaggl30.y']\n",
    "SubmissionDataSet['draggDiff']  = SubmissionDataSet['dragg.x']-SubmissionDataSet['dragg.y']\n",
    "SubmissionDataSet['draggl30Diff']  = SubmissionDataSet['draggl30.x']-SubmissionDataSet['draggl30.y']\n",
    "SubmissionDataSet['FG3PerctVarDiff']  = SubmissionDataSet['FG3PerctVar.x']-SubmissionDataSet['FG3PerctVar.y']\n",
    "SubmissionDataSet['FG3PerctVarl30Diff']  = SubmissionDataSet['FG3PerctVarl30.x']-SubmissionDataSet['FG3PerctVarl30.y']\n",
    "SubmissionDataSet['fga3aggDiff']  = SubmissionDataSet['fga3agg.x']-SubmissionDataSet['fga3agg.y']\n",
    "SubmissionDataSet['fga3aggl30Diff']  = SubmissionDataSet['fga3aggl30.x']-SubmissionDataSet['fga3aggl30.y']\n",
    "SubmissionDataSet['fgaaggDiff']  = SubmissionDataSet['fgaagg.x']-SubmissionDataSet['fgaagg.y']\n",
    "SubmissionDataSet['fgaaggl30Diff']  = SubmissionDataSet['fgaaggl30.x']-SubmissionDataSet['fgaaggl30.y']\n",
    "SubmissionDataSet['fgm3aggDiff']  = SubmissionDataSet['fgm3agg.x']-SubmissionDataSet['fgm3agg.y']\n",
    "SubmissionDataSet['fgm3aggl30Diff']  = SubmissionDataSet['fgm3aggl30.x']-SubmissionDataSet['fgm3aggl30.y']\n",
    "SubmissionDataSet['fgmaggDiff']  = SubmissionDataSet['fgmagg.x']-SubmissionDataSet['fgmagg.y']\n",
    "SubmissionDataSet['fgmaggl30Diff']  = SubmissionDataSet['fgmaggl30.x']-SubmissionDataSet['fgmaggl30.y']\n",
    "SubmissionDataSet['FGPerctVarDiff']  = SubmissionDataSet['FGPerctVar.x']-SubmissionDataSet['FGPerctVar.y']\n",
    "SubmissionDataSet['FGPerctVarl30Diff']  = SubmissionDataSet['FGPerctVarl30.x']-SubmissionDataSet['FGPerctVarl30.y']\n",
    "SubmissionDataSet['ftaaggDiff']  = SubmissionDataSet['ftaagg.x']-SubmissionDataSet['ftaagg.y']\n",
    "SubmissionDataSet['ftaaggl30Diff']  = SubmissionDataSet['ftaaggl30.x']-SubmissionDataSet['ftaaggl30.y']\n",
    "SubmissionDataSet['ftmaggDiff']  = SubmissionDataSet['ftmagg.x']-SubmissionDataSet['ftmagg.y']\n",
    "SubmissionDataSet['ftmaggl30Diff']  = SubmissionDataSet['ftmaggl30.x']-SubmissionDataSet['ftmaggl30.y']\n",
    "SubmissionDataSet['FTPerctVarDiff']  = SubmissionDataSet['FTPerctVar.x']-SubmissionDataSet['FTPerctVar.y']\n",
    "SubmissionDataSet['FTPerctVarl30Diff']  = SubmissionDataSet['FTPerctVarl30.x']-SubmissionDataSet['FTPerctVarl30.y']\n",
    "SubmissionDataSet['LuckDiff']  = SubmissionDataSet['Luck.x']-SubmissionDataSet['Luck.y']\n",
    "SubmissionDataSet['oraggDiff']  = SubmissionDataSet['oragg.x']-SubmissionDataSet['oragg.y']\n",
    "SubmissionDataSet['oraggl30Diff']  = SubmissionDataSet['oraggl30.x']-SubmissionDataSet['oraggl30.y']\n",
    "SubmissionDataSet['pfaggDiff']  = SubmissionDataSet['pfagg.x']-SubmissionDataSet['pfagg.y']\n",
    "SubmissionDataSet['pfaggl30Diff']  = SubmissionDataSet['pfaggl30.x']-SubmissionDataSet['pfaggl30.y']\n",
    "SubmissionDataSet['PythDiff']  = SubmissionDataSet['Pyth.x']-SubmissionDataSet['Pyth.y']\n",
    "SubmissionDataSet['SeedNumDiff']  = SubmissionDataSet['SeedNum.x']-SubmissionDataSet['SeedNum.y']\n",
    "SubmissionDataSet['stlaggDiff']  = SubmissionDataSet['stlagg.x']-SubmissionDataSet['stlagg.y']\n",
    "SubmissionDataSet['stlaggl30Diff']  = SubmissionDataSet['stlaggl30.x']-SubmissionDataSet['stlaggl30.y']\n",
    "SubmissionDataSet['toaggDiff']  = SubmissionDataSet['toagg.x']-SubmissionDataSet['toagg.y']\n",
    "SubmissionDataSet['toaggl30Diff']  = SubmissionDataSet['toaggl30.x']-SubmissionDataSet['toaggl30.y']\n",
    "SubmissionDataSet['toVarl30Diff']  = SubmissionDataSet['toVarl30.x']-SubmissionDataSet['toVarl30.y']\n",
    "SubmissionDataSet['PerctOfrom3pt.x']  =  (3*SubmissionDataSet['fgm3agg.x'])/(SubmissionDataSet['fgm3agg.x']*3+SubmissionDataSet['fgmagg.x']*2+\\\n",
    "                                                                             SubmissionDataSet['ftmagg.x'])\n",
    "SubmissionDataSet['PerctOfrom3pt.y']  =  (3*SubmissionDataSet['fgm3agg.y'])/(SubmissionDataSet['fgm3agg.y']*3+SubmissionDataSet['fgmagg.y']*2+\\\n",
    "                                                                             SubmissionDataSet['ftmagg.y'])\n",
    "SubmissionDataSet['PerctOfrom3ptDiff']  =  SubmissionDataSet['PerctOfrom3pt.x']-SubmissionDataSet['PerctOfrom3pt.y']\n",
    "SubmissionDataSet['PerctOfromFT.x']  =  (SubmissionDataSet['ftmagg.x'])/(SubmissionDataSet['fgm3agg.x']*3+SubmissionDataSet['fgmagg.x']*2+\\\n",
    "                                                                         SubmissionDataSet['ftmagg.x'])\n",
    "SubmissionDataSet['PerctOfromFT.y']  =  (SubmissionDataSet['ftmagg.y'])/(SubmissionDataSet['fgm3agg.y']*3+SubmissionDataSet['fgmagg.y']*2+\\\n",
    "                                                                         SubmissionDataSet['ftmagg.y'])\n",
    "SubmissionDataSet['PerctOfromFTDiff']  =  SubmissionDataSet['PerctOfrom3pt.x']-SubmissionDataSet['PerctOfrom3pt.y']\n",
    "SubmissionDataSet['AggresPrct.x']  =  (SubmissionDataSet['ftmagg.x']/SubmissionDataSet['fgmagg.x'])/(SubmissionDataSet['fgm3agg.x']/\\\n",
    "                                                                                                     SubmissionDataSet['fgmagg.x'])\n",
    "SubmissionDataSet['AggresPrct.y']  =  (SubmissionDataSet['ftmagg.y']/SubmissionDataSet['fgmagg.y'])/(SubmissionDataSet['fgm3agg.y']/\\\n",
    "                                                                                                     SubmissionDataSet['fgmagg.y'])\n",
    "SubmissionDataSet['AggresPrctDiff']  = SubmissionDataSet['AggresPrct.x']-SubmissionDataSet['AggresPrct.y']\n",
    "SubmissionDataSet ['RemoveDups'] =  np.where(SubmissionDataSet['Team']>SubmissionDataSet['OppTeam'], 0, 1)\n",
    "SubmissionDataSet ['OffMomentum.x'] = SubmissionDataSet ['OffRtgl30.x']/SubmissionDataSet ['OffRtg.x']\n",
    "SubmissionDataSet ['DefMomentum.x'] = SubmissionDataSet ['DffRtgl30.x']/SubmissionDataSet ['DffRtg.x']\n",
    "SubmissionDataSet ['OffMomentum.y'] = SubmissionDataSet ['OffRtgl30.y']/SubmissionDataSet ['OffRtg.y']\n",
    "SubmissionDataSet ['DefMomentum.y'] = SubmissionDataSet ['DffRtgl30.y']/SubmissionDataSet ['DffRtg.y']\n",
    "SubmissionDataSet ['OffMomentumDiff'] = SubmissionDataSet ['OffMomentum.x']-SubmissionDataSet ['OffMomentum.y']\n",
    "SubmissionDataSet ['DefMomentumDiff'] = SubmissionDataSet ['DefMomentum.x']-SubmissionDataSet ['DefMomentum.y']\n",
    "SubmissionDataSet ['MAS_Final_Diff'] = SubmissionDataSet ['MAS_FinalRanking.x']-SubmissionDataSet ['MAS_FinalRanking.y']\n",
    "SubmissionDataSet ['MAS_Min_Diff'] = SubmissionDataSet ['MAS_MinRank.x']-SubmissionDataSet ['MAS_MinRank.y']\n",
    "SubmissionDataSet ['MAS_Max_Diff'] = SubmissionDataSet ['MAS_MaxRank.x']-SubmissionDataSet ['MAS_MaxRank.y']\n",
    "SubmissionDataSet ['MAS_Var_Diff'] = SubmissionDataSet ['MAS_VarRank.x']-SubmissionDataSet ['MAS_VarRank.y']\n",
    "SubmissionDataSet ['COL_Final_Diff'] = SubmissionDataSet ['COL_FinalRanking.x']-SubmissionDataSet ['COL_FinalRanking.y']\n",
    "SubmissionDataSet ['COL_Min_Diff'] = SubmissionDataSet ['COL_MinRank.x']-SubmissionDataSet ['COL_MinRank.y']\n",
    "SubmissionDataSet ['COL_Max_Diff'] = SubmissionDataSet ['COL_MaxRank.x']-SubmissionDataSet ['COL_MaxRank.y']\n",
    "SubmissionDataSet ['COL_Var_Diff'] = SubmissionDataSet ['COL_VarRank.x']-SubmissionDataSet ['COL_VarRank.y']\n",
    "SubmissionDataSet ['RPI_Final_Diff'] = SubmissionDataSet ['RPI_FinalRanking.x']-SubmissionDataSet ['RPI_FinalRanking.y']\n",
    "SubmissionDataSet ['RPI_Min_Diff'] = SubmissionDataSet ['RPI_MinRank.x']-SubmissionDataSet ['RPI_MinRank.y']\n",
    "SubmissionDataSet ['RPI_Max_Diff'] = SubmissionDataSet ['RPI_MaxRank.x']-SubmissionDataSet ['RPI_MaxRank.y']\n",
    "SubmissionDataSet ['RPI_Var_Diff'] = SubmissionDataSet ['RPI_VarRank.x']-SubmissionDataSet ['RPI_VarRank.y']"
   ]
  },
  {
   "cell_type": "code",
   "execution_count": 23,
   "metadata": {},
   "outputs": [],
   "source": [
    "TeamNames = teamsAll[[\"Team_Id\",\"Team_Name\"]]\n",
    "TeamNames = TeamNames.drop_duplicates()\n",
    "SubmissionDataSet = SubmissionDataSet.merge(TeamNames,left_on=['Team'], right_on=[\"Team_Id\"],how='left')\n",
    "TeamNames.rename(columns={'Team_Name':'Opp_Team_Name'},inplace=True)\n",
    "SubmissionDataSet = SubmissionDataSet.merge(TeamNames,left_on=['OppTeam'], right_on=[\"Team_Id\"],how='left')\n",
    "TeamNames.rename(columns={'Opp_Team_Name':'Team_Name'},inplace=True)\n",
    "SubmissionDataSet = SubmissionDataSet.fillna(0)"
   ]
  },
  {
   "cell_type": "code",
   "execution_count": 24,
   "metadata": {},
   "outputs": [
    {
     "name": "stdout",
     "output_type": "stream",
     "text": [
      "0\n",
      "1\n",
      "2\n",
      "3\n"
     ]
    }
   ],
   "source": [
    "sub_df = pd.DataFrame()\n",
    "for rs in range(4):\n",
    "    print(rs)\n",
    "    test_ids = SubmissionDataSet['Id'].reset_index(drop=True)\n",
    "    X_test = SubmissionDataSet[ind_var_selected].reset_index(drop=True)\n",
    "\n",
    "    TourneyDataTotal = TourneyDataTotal.sample(frac=1, random_state=rs)\n",
    "    X_train_orig = TourneyDataTotal[ind_var_selected].reset_index(drop=True)\n",
    "    y_train_orig = TourneyDataTotal['Win'].reset_index(drop=True)\n",
    "\n",
    "    scaler = StandardScaler()\n",
    "    scaler.fit(X_train_orig)  \n",
    "\n",
    "    scaled_X_train_orig = pd.DataFrame(scaler.transform(X_train_orig), index=X_train_orig.index, columns=X_train_orig.columns)\n",
    "    scaled_X_test = pd.DataFrame(scaler.transform(X_test), index=X_test.index, columns=X_test.columns)\n",
    "    psub_df = pd.DataFrame()\n",
    "    for step in range(10):\n",
    "            #roll columns\n",
    "            new_top_cols = np.array(ind_var_selected)\n",
    "            ind_var_selected = list(np.roll(new_top_cols,step))\n",
    "\n",
    "            nn = LogisticRegression(max_iter=150)\n",
    "            nn.fit(scaled_X_train_orig[ind_var_selected],y_train_orig)\n",
    "            second_rd_submission = pd.DataFrame(nn.predict_proba(scaled_X_test[ind_var_selected]))[1]\n",
    "            \n",
    "            psub_df[step] = second_rd_submission\n",
    "    sub_df[rs] = psub_df.mean(axis=1)\n",
    "second_rd_submission_final = sub_df.mean(axis=1)\n",
    "second_rd_submission_all = pd.DataFrame()\n",
    "second_rd_submission_all[1] = second_rd_submission_final.values\n",
    "second_rd_submission_all[0] = 1-second_rd_submission_all[1]"
   ]
  },
  {
   "cell_type": "code",
   "execution_count": 25,
   "metadata": {},
   "outputs": [],
   "source": [
    "second_rd_submission = pd.merge(SubmissionDataSet, second_rd_submission_all, left_index=True, right_index=True)\n",
    "\n",
    "second_rd_submission.loc[second_rd_submission['Team']<second_rd_submission['OppTeam'], 'pred'] = second_rd_submission[1]\n",
    "second_rd_submission.loc[second_rd_submission['Team']>second_rd_submission['OppTeam'], 'pred'] = second_rd_submission[0]\n",
    "class_rd_submission = second_rd_submission[['Id','pred']]\n",
    "\n",
    "#class_rd_submission.pred[class_rd_submission.pred > 0.975] = 1\n",
    "#class_rd_submission.pred[class_rd_submission.pred < 0.05] = 0\n",
    "\n",
    "class_rd_submission.to_csv('second_rd_submission_classifier.csv', index=False)"
   ]
  },
  {
   "cell_type": "code",
   "execution_count": 26,
   "metadata": {},
   "outputs": [
    {
     "data": {
      "text/plain": [
       "<matplotlib.axes._subplots.AxesSubplot at 0x7fc18caef588>"
      ]
     },
     "execution_count": 26,
     "metadata": {},
     "output_type": "execute_result"
    },
    {
     "data": {
      "image/png": "[encoded data removed]",
      "text/plain": [
       "<Figure size 432x288 with 1 Axes>"
      ]
     },
     "metadata": {
      "needs_background": "light"
     },
     "output_type": "display_data"
    }
   ],
   "source": [
    "class_rd_submission.pred.hist()"
   ]
  }
 ],
 "metadata": {
  "kernelspec": {
   "display_name": "Python 3",
   "language": "python",
   "name": "python3"
  },
  "language_info": {
   "codemirror_mode": {
    "name": "ipython",
    "version": 3
   },
   "file_extension": ".py",
   "mimetype": "text/x-python",
   "name": "python",
   "nbconvert_exporter": "python",
   "pygments_lexer": "ipython3",
   "version": "3.6.6"
  }
 },
 "nbformat": 4,
 "nbformat_minor": 4
}
